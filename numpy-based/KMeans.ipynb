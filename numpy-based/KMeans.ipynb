{
 "cells": [
  {
   "cell_type": "code",
   "execution_count": 1,
   "metadata": {
    "id": "BZUCFylqHVZJ"
   },
   "outputs": [],
   "source": [
    "import pdb\n",
    "import numpy as np\n",
    "import matplotlib.pyplot as plt\n",
    "\n",
    "# for ground-truth comparison\n",
    "from sklearn.cluster import KMeans\n",
    "# for generating synthetic data\n",
    "from sklearn.datasets import make_blobs"
   ]
  },
  {
   "cell_type": "markdown",
   "metadata": {
    "id": "Dv_ftJwQIaHK"
   },
   "source": [
    "#### Boradcasting\n",
    "Let $X$ be a matrix of dimension $(n, m)$, with $n$ the number of data points and $m$ the feature dimension.\n",
    "Let $C$ be another matrix of dimension $(k, m)$.\n",
    "Suppose we want to compute the distance between each row of $X$ and each row of $C$.\n",
    "A convenient way to do this is using the *broadcasting* functionality from NumPy, as shown below"
   ]
  },
  {
   "cell_type": "code",
   "execution_count": 2,
   "metadata": {
    "id": "VGYgRwUqzE5K"
   },
   "outputs": [],
   "source": [
    "# Generate synthetic data\n",
    "n_centers = 5\n",
    "n_samples = 500\n",
    "n_features = 2\n",
    "X, _ = make_blobs(n_samples=n_samples, centers=n_centers, cluster_std=0.60, random_state=0)\n",
    "\n",
    "# Simulate an arbitrary matrix C to represent the clustering centers\n",
    "C = np.random.rand(n_centers, n_features)\n",
    "\n",
    "# Use broadcasting to compute the Euclidean distance\n",
    "# between each row of X and each row of C.\n",
    "# The dimension of X becomes (n, 1, m)\n",
    "# The dimension of C becomes (1, k, m)\n",
    "# Due to broadcasting, (X - C) has dimension (n, k, m).\n",
    "# Computing the L2 norm across the last dimension (i.e., axis=2) gives us\n",
    "# a matrix D of dimension (n, k), where the (i,j)-th entry of D is the\n",
    "# Euclidean distance between the i-th data point and the j-th center.\n",
    "D = np.linalg.norm(X[:, np.newaxis, :] - C[np.newaxis, :, :], axis=2) ** 2"
   ]
  },
  {
   "cell_type": "code",
   "execution_count": 3,
   "metadata": {
    "colab": {
     "base_uri": "https://localhost:8080/"
    },
    "id": "ux9yf9GMz7yj",
    "outputId": "7e544f66-10e5-4395-8ee7-341846590aef"
   },
   "outputs": [
    {
     "data": {
      "text/plain": [
       "(500, 5)"
      ]
     },
     "execution_count": 3,
     "metadata": {},
     "output_type": "execute_result"
    }
   ],
   "source": [
    "D.shape"
   ]
  },
  {
   "cell_type": "code",
   "execution_count": 6,
   "metadata": {
    "id": "nFL5uMKVHcHQ"
   },
   "outputs": [],
   "source": [
    "class SimpleKMeans:\n",
    "    def __init__(self, k, tol=1e-8, max_iter=100, random_state=123):\n",
    "        self.centers = None\n",
    "        self.k = k\n",
    "        self.tol = tol\n",
    "        self.max_iter = max_iter\n",
    "        self.random_state = random_state\n",
    "\n",
    "    def initialize(self, X, k):\n",
    "        ## kmeans++ initialization for the cluster centers\n",
    "        ## https://en.wikipedia.org/wiki/K-means%2B%2B\n",
    "        ## An alternative is just random initialization\n",
    "        n, m = X.shape[0], X.shape[1]\n",
    "        centers = np.zeros((k, m))\n",
    "        # the first center is sampled uniformly at random\n",
    "        first_center = np.random.randint(0, n)\n",
    "        centers[0] = X[first_center]\n",
    "\n",
    "        ## broadcasting\n",
    "        ## (n, m) - (1, m) = (n, m)\n",
    "        dist = np.sum((X - centers[0])**2, axis=1)**0.5\n",
    "        for i in range(1, k):\n",
    "            probs = dist / np.sum(dist)\n",
    "            ## select the next center with probability proportional\n",
    "            ## to the distance to the previous center\n",
    "            center_idx = np.random.choice(n, p=probs)\n",
    "            centers[i] = X[center_idx]\n",
    "\n",
    "            if i < k-1:\n",
    "                new_dist = np.sum((X - centers[i])**2, axis=1)**0.5\n",
    "                dist = np.minimum(dist, new_dist)\n",
    "        return centers\n",
    "\n",
    "\n",
    "    def fit(self, X):\n",
    "        n, m = X.shape[0], X.shape[1]\n",
    "        ## randomly initialized the centers\n",
    "        # idx = np.random.choice(range(n), size=self.k, replace=False)\n",
    "        # centers = X[idx, :]\n",
    "\n",
    "        ## initialize the centers with kmeans++\n",
    "        centers = self.initialize(X, self.k)\n",
    "\n",
    "        for i in range(self.max_iter):\n",
    "            ## leverage the broadcasting from NumPy\n",
    "            ## dist: (n, k)\n",
    "            dist = np.linalg.norm(X[:, np.newaxis, :] - centers[np.newaxis, :, :], axis=2)**2\n",
    "\n",
    "            ## find the closest center for each data point\n",
    "            new_assignment = np.argmin(dist, axis=1)\n",
    "            new_centers = np.zeros((self.k, m))\n",
    "            for c in range(self.k):\n",
    "                if np.any(c == new_assignment):\n",
    "                    new_centers[c] = X[new_assignment == c].mean(axis=0)\n",
    "                else:\n",
    "                    ## handle the case where a cluter is not assigned any data point\n",
    "                    ## if this happens, we pick the farthest data point and assign it to this cluster\n",
    "                    farthest = np.argmax(np.sum((X - centers[c])**2, axis=1))\n",
    "                    new_centers[c] = X[farthest]\n",
    "\n",
    "            if np.linalg.norm(new_centers - centers) < self.tol:\n",
    "                break\n",
    "            centers = new_centers\n",
    "        self.centers = centers\n",
    "\n",
    "    def predict(self, X):\n",
    "        ## X:      (n, 1, m)\n",
    "        ## center: (1, k, m)\n",
    "        dist = np.linalg.norm(X[:, np.newaxis, :] - self.centers[np.newaxis:, :, ], axis=2)\n",
    "        assigned_centers = np.argmin(dist, axis=1)\n",
    "        center_values = self.centers[assigned_centers]\n",
    "        return assigned_centers, center_values\n",
    "\n",
    "    def inertia_(self, X):\n",
    "        ## Compute the within-cluster sum of squared distance (WCSS)\n",
    "        ## this is used to select the hyper-parameter `k`\n",
    "        assigned_centers, center_values = self.predict(X)\n",
    "        wc_dist = 0.0\n",
    "        for i, center in enumerate(self.centers):\n",
    "            ## (c, m) - (m, ) = (c, m) - (1, m)\n",
    "            dist = np.sum((X[assigned_centers == i] - center)**2, axis=1)\n",
    "            wc_dist += np.sum(dist)\n",
    "        return wc_dist\n"
   ]
  },
  {
   "cell_type": "code",
   "execution_count": 5,
   "metadata": {
    "colab": {
     "base_uri": "https://localhost:8080/",
     "height": 472
    },
    "id": "mthuwRuf3imy",
    "outputId": "9fc1b7fd-a17f-4579-c5da-a730ecd7de87"
   },
   "outputs": [
    {
     "data": {
      "image/png": "[encoded data removed]",
      "text/plain": [
       "<Figure size 640x480 with 1 Axes>"
      ]
     },
     "metadata": {},
     "output_type": "display_data"
    }
   ],
   "source": [
    "# Apply the simple KMeans with a range of k values and plot the WCSS\n",
    "# The best k is attained at the point where the WCSS doesn't significantly descrease.\n",
    "# In our case, the best k should be around 5.\n",
    "\n",
    "seed = 123\n",
    "np.random.seed(seed)\n",
    "\n",
    "# Compare the customized implementation with the ground-truth implementation from scikit-learn\n",
    "cust_wcss = []\n",
    "true_wcss = []\n",
    "\n",
    "for i in range(1, 11):  # Test k from 1 to 10\n",
    "    simple_km = SimpleKMeans(k=i, random_state=seed)\n",
    "    simple_km.fit(X)\n",
    "    cust_wcss.append(simple_km.inertia_(X))\n",
    "\n",
    "    true_km = KMeans(n_clusters=i, init='k-means++', max_iter=300, n_init=10, random_state=seed)\n",
    "    true_km.fit(X)\n",
    "    true_wcss.append(true_km.inertia_)\n",
    "\n",
    "# Plot the WCC for both simple K-means and true K-means.\n",
    "# The lines are almost overlapping\n",
    "plt.plot(range(1, 11), cust_wcss, label='simple KM', linestyle='-.')\n",
    "plt.plot(range(1, 11), true_wcss, label='true KM')\n",
    "plt.title('Elbow method')\n",
    "plt.xlabel('Number of clusters (k)')\n",
    "plt.ylabel('WCSS')\n",
    "plt.xticks(range(1, 11))\n",
    "plt.grid(True)\n",
    "plt.axvline(x=5, color='r', linestyle='--', linewidth=2)\n",
    "plt.legend()\n",
    "plt.show()"
   ]
  },
  {
   "cell_type": "code",
   "execution_count": null,
   "metadata": {
    "id": "RDdRU4io3iHX"
   },
   "outputs": [],
   "source": []
  },
  {
   "cell_type": "code",
   "execution_count": null,
   "metadata": {
    "id": "wgT9H5JdFCLq"
   },
   "outputs": [],
   "source": []
  }
 ],
 "metadata": {
  "colab": {
   "provenance": []
  },
  "kernelspec": {
   "display_name": "Python 3 (ipykernel)",
   "language": "python",
   "name": "python3"
  },
  "language_info": {
   "codemirror_mode": {
    "name": "ipython",
    "version": 3
   },
   "file_extension": ".py",
   "mimetype": "text/x-python",
   "name": "python",
   "nbconvert_exporter": "python",
   "pygments_lexer": "ipython3",
   "version": "3.8.19"
  }
 },
 "nbformat": 4,
 "nbformat_minor": 4
}
