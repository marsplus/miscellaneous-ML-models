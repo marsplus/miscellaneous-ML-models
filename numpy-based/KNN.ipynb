{
 "cells": [
  {
   "cell_type": "code",
   "execution_count": 2,
   "id": "bf341314-8f0e-44b7-9a68-519299e899a8",
   "metadata": {},
   "outputs": [],
   "source": [
    "import pdb\n",
    "import numpy as np\n",
    "import matplotlib.pyplot as plt\n",
    "from sklearn.datasets import make_classification\n",
    "from sklearn.model_selection import train_test_split\n",
    "\n",
    "from sklearn import metrics\n",
    "from sklearn.datasets import load_breast_cancer"
   ]
  },
  {
   "cell_type": "markdown",
   "id": "bac5f888-6d2f-4c83-aec2-7142668e926c",
   "metadata": {},
   "source": [
    "#### A simple but inefficient implementation of KNN"
   ]
  },
  {
   "cell_type": "code",
   "execution_count": 15,
   "id": "32ec8646-4163-4901-beff-97267dae7d82",
   "metadata": {},
   "outputs": [],
   "source": [
    "class SimpleKNN:\n",
    "    def __init__(self, k=3):\n",
    "        self.k = k\n",
    "\n",
    "    def fit(self, X_train, y_train):\n",
    "        \"\"\"The fitting process just naively storing the entire training set.\"\"\"\n",
    "        self.X_train = X_train\n",
    "        self.y_train = y_train\n",
    "\n",
    "    def predict(self, X_test):\n",
    "        \"\"\"\n",
    "        The prediction is to find the closest k points \n",
    "        for each test data; then find the majority label \n",
    "        of the k points\n",
    "        \"\"\"\n",
    "        ## X_train: (n, m)\n",
    "        ## X_test:  (h, m)\n",
    "        ## Broadcasting by adding new axese to X_train and X_test\n",
    "        ## X_train: (1, n, m)\n",
    "        ## X_test:  (h, 1, m)\n",
    "        ## as a result, X_test - X_train becomes: (h, 1, m) - (1, n, m) -> (h, n, m)\n",
    "        ## Compute the distance across the last axis, i.e., np.linalg.norm((h, n, m), axis=2), \n",
    "        ## which gives us an array of dimension (h, n), where the (i,j)-th entry is the distance \n",
    "        ## between the i-th test data and the j-th training data\n",
    "        dist = np.linalg.norm((X_test[:, np.newaxis, :] - X_train[np.newaxis, :, :])**2, axis=2)\n",
    "\n",
    "        ## find the indices of the k nearest neighbors of each test data\n",
    "        idx = np.argsort(dist, axis=1)[:, :self.k]\n",
    "\n",
    "        ## find the labels of the k nearest neighbors \n",
    "        ## idx: (h, k)\n",
    "        ## y_train: (n, )\n",
    "        ## y_train[idx]: (h, k)\n",
    "        knn_labels = self.y_train[idx]\n",
    "\n",
    "        ## find the majority of the labels of the k nearest neighbors\n",
    "        preds = np.apply_along_axis(lambda x: np.bincount(x).argmax(), axis=1, arr=knn_labels)\n",
    "        return preds"
   ]
  },
  {
   "cell_type": "code",
   "execution_count": 16,
   "id": "64de54b3-4a31-49a2-8593-7b29ec68b23a",
   "metadata": {},
   "outputs": [
    {
     "name": "stdout",
     "output_type": "stream",
     "text": [
      "0.9473684210526315\n"
     ]
    }
   ],
   "source": [
    "## Run the simple KNN on a cancer dataset\n",
    "cancer_data = load_breast_cancer()\n",
    "X, y = cancer_data.data, cancer_data.target\n",
    "X_train, X_test, y_train, y_test = train_test_split(X, y, test_size=0.2, random_state=42)\n",
    "\n",
    "clf = SimpleKNN(k=5)\n",
    "clf.fit(X_train, y_train)\n",
    "y_preds = clf.predict(X_test)\n",
    "\n",
    "## calculate the accuracy on test data\n",
    "print(np.count_nonzero(y_preds == y_test) / len(y_test))"
   ]
  },
  {
   "cell_type": "code",
   "execution_count": null,
   "id": "ea695ada-4ed6-48d9-b44d-5948c6d03ab5",
   "metadata": {},
   "outputs": [],
   "source": []
  }
 ],
 "metadata": {
  "kernelspec": {
   "display_name": "Python 3 (ipykernel)",
   "language": "python",
   "name": "python3"
  },
  "language_info": {
   "codemirror_mode": {
    "name": "ipython",
    "version": 3
   },
   "file_extension": ".py",
   "mimetype": "text/x-python",
   "name": "python",
   "nbconvert_exporter": "python",
   "pygments_lexer": "ipython3",
   "version": "3.8.19"
  }
 },
 "nbformat": 4,
 "nbformat_minor": 5
}
